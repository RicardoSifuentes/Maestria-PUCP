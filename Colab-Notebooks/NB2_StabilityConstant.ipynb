{
  "nbformat": 4,
  "nbformat_minor": 0,
  "metadata": {
    "colab": {
      "provenance": []
    },
    "kernelspec": {
      "name": "python3",
      "display_name": "Python 3"
    },
    "language_info": {
      "name": "python"
    }
  },
  "cells": [
    {
      "cell_type": "code",
      "source": [
        "# Load libraries\n",
        "import numpy as np\n",
        "import math as mt\n",
        "import scipy as sp"
      ],
      "metadata": {
        "id": "aGALxMHsTS8Q"
      },
      "execution_count": null,
      "outputs": []
    },
    {
      "cell_type": "code",
      "source": [
        "# Define constants\n",
        "R = sp.constants.R           # Ideal gas constant (J.mol/K)\n",
        "T = 25 + 273.15              # Temperature (K)\n",
        "conc = 0.997*1000/18.01528   # Concentration of pure water at 25°C (mol/L)\n",
        "conv = 2625500.2             # Conversion from 1 Eh to J/mol"
      ],
      "metadata": {
        "id": "ghJQgQROoHQK"
      },
      "execution_count": null,
      "outputs": []
    },
    {
      "cell_type": "markdown",
      "source": [
        "# Calculation of the stability constant\n",
        "Function to compute the solvation free energy $(\\Delta_r G)$ and the logarithm of the stability constant $(\\log \\beta)$ at a given temperature.\n",
        "\n",
        "In this notebook, 3 calculation methods are used:\n",
        "- Monomer [1]\n",
        "- Cluster [2]\n",
        "- Hess [3]"
      ],
      "metadata": {
        "id": "y6a2txYH2zhI"
      }
    },
    {
      "cell_type": "code",
      "source": [
        "def ConstanteK(G_L, G_M, G_ML, G_H2O, G_H2O_n, n, T, method, G_R = 0, G_MR = 0, logK_R = 0):\n",
        " #     G_L: Ligand free energy (Eh)\n",
        " #     G_M: Cu(H2O)6 complex free energy (Eh)\n",
        " #    G_ML: Cu-Ligand complex free energy (Eh)\n",
        " #   G_H2O: Water free energy (Eh)\n",
        " # G_H2O_n: Water cluster free energy (Eh)\n",
        " #       n: Stoichiometric coefficient of water in the products\n",
        " #  logK_R: Logarithm of the stability constant of the reference complex (experimentally determined)\n",
        " #       T: Reaction temperature\n",
        " #  method: 'monomer', 'cluster' or 'Hess'\n",
        "\n",
        " # Optional parameters: If an experimental reference complex is available, the 'Hess' method can be used and the G values calculated by DFT can be input.\n",
        " #  G_R: Reference ligand free energy (Eh)\n",
        " # G_MR: Reference Cu-complex free energy (Eh)\n",
        "\n",
        "  if(method == 'monomer'):\n",
        "    # ΔG_aq without correction in J/mol\n",
        "    Del_G_aq = ((G_ML + n*G_H2O) - (G_M + G_L))*conv\n",
        "    logK = - Del_G_aq/(mt.log(10)*R*T)\n",
        "\n",
        "    # Correction factor in logK:\n",
        "    corr = -((n-1)*np.log(24.46) + n*np.log(conc))/np.log(10)\n",
        "\n",
        "  if(method == 'cluster'):\n",
        "    # ΔG_aq without correction in J/mol\n",
        "    Del_G_aq = ((G_ML + G_H2O_n) - (G_M + G_L))*conv\n",
        "    logK = - Del_G_aq/(mt.log(10)*R*T)\n",
        "\n",
        "    # Correction factor in logK:\n",
        "    corr = -(np.log(conc/n))/np.log(10)\n",
        "\n",
        "  if(method == 'Hess'):\n",
        "    # ΔG_aq in J/mol for the auxiliary reaction CuR + L^{2-} -> CuL + R^{2-}\n",
        "    Del_G_aux = ((G_ML + G_R) - (G_MR + G_L))*conv\n",
        "    logK = - Del_G_aux/(mt.log(10)*R*T) + logK_R\n",
        "\n",
        "    # Correction factor (No correction term is applied for this method)\n",
        "    corr = 0\n",
        "\n",
        "  # Corrected logK\n",
        "  logK = logK + corr\n",
        "  return logK, corr"
      ],
      "metadata": {
        "id": "34HX1FGt4h4f"
      },
      "execution_count": null,
      "outputs": []
    },
    {
      "cell_type": "markdown",
      "source": [
        "# Computed free energy database\n",
        "- Water molecule (xTB, revTPSS, B3LYP, M06)\n",
        "- Copper hexaaquo complex $[\\text{Cu(H2O)}_6]$ (xTB, revTPSS, B3LYP, M06)\n",
        "- Water cluster $(\\text{H}_2\\text{O})_6$ (xTB, revTPSS, B3LYP, M06)\n",
        "- DU complex and ligand (1, 2, 3) (xTB, revTPSS, B3LYP, M06)\n",
        "- DG complex and ligand (1, 2) (xTB, B3LYP)\n",
        "- DGB complex and ligand (xTB, B3LYP)\n",
        "- Reference complex (rtsc, gtsc, ptsm) (xTB, revTPSS, B3LYP, M06)\n",
        "- Proposed complexes and ligands with conformations (C1 - C8 & C1-OH, C2-OH, C3-OH, C7-OH) (B3LYP)"
      ],
      "metadata": {
        "id": "-bsjyjyn3mZK"
      }
    },
    {
      "cell_type": "code",
      "source": [
        "# Data using def2-SVP basis and varying the functional:\n",
        "H2O_B3LYP   = -76.32999861\n",
        "H2O_M06     = -76.33311223\n",
        "H2O_revTPSS = -76.33132452\n",
        "H2O_xTB     = -5.077858752833\n",
        "\n",
        "Cu_H2O_B3LYP   = -2097.94894161\n",
        "Cu_H2O_M06     = -2097.96061084\n",
        "Cu_H2O_revTPSS = -2097.59428975\n",
        "Cu_H2O_xTB     =  -33.707556648529\n",
        "\n",
        "H2O_6_B3LYP   = -457.98455078\n",
        "H2O_6_M06     = -457.98818222\n",
        "H2O_6_revTPSS = -457.99217898\n",
        "H2O_6_xTB     = -30.423820068483\n",
        "\n",
        "\n",
        "# Diego Uehara (DU) Data\n",
        "DU1_L_revTPSS = -1722.36523467\n",
        "DU1_L_B3LYP   = -1721.66358747\n",
        "DU1_L_M06     = -1721.32821243\n",
        "DU1_L_xTB     = -110.272510878906\n",
        "DU2_L_revTPSS = -1761.62534652\n",
        "DU2_L_B3LYP   = -1760.89892147\n",
        "DU2_L_M06     = -1760.55506237\n",
        "DU2_L_xTB     = -113.407957326149\n",
        "DU3_L_revTPSS = -1990.39495807\n",
        "DU3_L_B3LYP   = -1989.60747966\n",
        "DU3_L_M06     = -1989.24732295\n",
        "DU3_L_xTB     = -127.812363078405\n",
        "\n",
        "DU1_CuL_revTPSS = -3362.09448999\n",
        "DU1_CuL_B3LYP   = -3361.74976362\n",
        "DU1_CuL_M06     = -3361.41005220\n",
        "DU1_CuL_xTB     = -113.663009357611\n",
        "DU2_CuL_revTPSS = -3401.34780383\n",
        "DU2_CuL_B3LYP   = -3400.98138129\n",
        "DU2_CuL_M06     = -3400.63150865\n",
        "DU2_CuL_xTB     = -116.800171845567\n",
        "DU3_CuL_revTPSS = -3630.11425904\n",
        "DU3_CuL_M06     = -3629.32168800\n",
        "DU3_CuL_xTB     =  -131.203121154232\n",
        "DU3_CuL_B3LYP   = -3629.68857429\n",
        "\n",
        "# Deborah Gonzales (DG) complex data\n",
        "DG1_L_B3LYP = -1832.73227146\n",
        "DG1_L_xTB   = -115.314835367684\n",
        "DG2_L_B3LYP = -1793.49645752\n",
        "DG2_L_xTB   = -112.164549306407\n",
        "\n",
        "DG1_CuL_B3LYP = -3472.82510699\n",
        "DG1_CuL_xTB   = -118.684934868650\n",
        "DG2_CuL_B3LYP = -3433.59402238\n",
        "DG2_CuL_xTB   = -115.548121549562\n",
        "\n",
        "# David Grados (DGB) complex data\n",
        "DGB_L_B3LYP   = -1375.66499902\n",
        "DGB_L_xTB     = -88.069160470315\n",
        "DGB_CuL_B3LYP = -3015.74766710\n",
        "DGB_CuL_xTB   = -91.458165860414\n",
        "\n",
        "\n",
        "# Experimental data values\n",
        " # Exp1: rtsc\n",
        " # Exp2: gtsc\n",
        " # Exp3: ptsm\n",
        "\n",
        "# Reference data\n",
        "Exp1_L_revTPSS = -1548.15853582\n",
        "Exp1_L_B3LYP   = -1548.08601279\n",
        "Exp1_L_M06     = -1548.06014516\n",
        "Exp1_L_xTB     = -53.691492797342\n",
        "Exp2_L_revTPSS = -1662.54352839\n",
        "Exp2_L_B3LYP   = -1662.44557435\n",
        "Exp2_L_M06     = -1662.415279666\n",
        "Exp2_L_xTB     = -60.893976347704\n",
        "Exp3_L_revTPSS = -1397.87405102\n",
        "Exp3_L_B3LYP   = -1397.80038975\n",
        "Exp3_L_M06     = -1397.76825138\n",
        "Exp3_L_xTB     = -45.571780476625\n",
        "\n",
        "Exp1_CuL_revTPSS = -3187.89632475\n",
        "Exp1_CuL_B3LYP   = -3188.18043689\n",
        "Exp1_CuL_M06     = -3188.15566046\n",
        "Exp1_CuL_xTB     = -57.047499040022\n",
        "Exp2_CuL_revTPSS = -3302.28854559\n",
        "Exp2_CuL_B3LYP   = -3302.54679773\n",
        "Exp2_CuL_M06     = -3302.51834717\n",
        "Exp2_CuL_xTB     = -64.252006023925\n",
        "Exp3_CuL_revTPSS = -3037.62263285\n",
        "Exp3_CuL_B3LYP   = -3037.90447495\n",
        "Exp3_CuL_M06     = -3037.87451339\n",
        "Exp3_CuL_xTB     = -48.936253441819\n",
        "\n",
        "\n",
        "# Proposed structure's data\n",
        "C1_L_B3LYP = -1492.92972617\n",
        "C2_L_B3LYP = -1492.95064231\n",
        "C3_L_B3LYP = -1492.94391584\n",
        "C4_L_B3LYP = -1492.94946374\n",
        "C5_L_B3LYP = -1186.14957822\n",
        "C6_L_B3LYP = -1186.15919731\n",
        "C7_L_B3LYP = -1186.15044843\n",
        "C8_L_B3LYP = -1186.16056202\n",
        "\n",
        "C1_CuL_B3LYP = -3133.02320145\n",
        "C2_CuL_B3LYP = -3133.03562077\n",
        "C3_CuL_B3LYP = -3133.03564448\n",
        "C4_CuL_B3LYP = -3133.04438287\n",
        "C5_CuL_B3LYP = -2826.23180742\n",
        "C6_CuL_B3LYP = -2826.23807044\n",
        "C7_CuL_B3LYP = -2826.23860880\n",
        "C8_CuL_B3LYP = -2826.23983004\n",
        "\n",
        "C1_L_OH_B3LYP =  DG2_L_B3LYP\n",
        "C2_L_OH_B3LYP = -1793.51106880\n",
        "C3_L_OH_B3LYP = -1643.22622583\n",
        "C4_L_OH_B3LYP = -1793.51770080\n",
        "C7_L_OH_B3LYP = -1261.29286477\n",
        "\n",
        "C1_CuL_OH_B3LYP =  DG2_CuL_B3LYP\n",
        "C2_CuL_OH_B3LYP = -3433.60046421\n",
        "C3_CuL_OH_B3LYP = -3283.31867557\n",
        "C4_CuL_OH_B3LYP = -3433.61192575\n",
        "C7_CuL_OH_B3LYP = -2901.38021072"
      ],
      "metadata": {
        "id": "gSL7NQORuQ-L"
      },
      "execution_count": null,
      "outputs": []
    },
    {
      "cell_type": "markdown",
      "source": [
        "# Methods and functional analysis\n",
        "\n",
        "* Calculation of $\\log \\beta$ of the reference complexes (rtsc [4], gtsc [5], ptsm [6]).\n",
        "* Calculation of $\\log \\beta$ of synthesized complexes (DU, DG, DGB)."
      ],
      "metadata": {
        "id": "AwPKA8osYGb8"
      }
    },
    {
      "cell_type": "markdown",
      "source": [
        "## Reference complexes analysis"
      ],
      "metadata": {
        "id": "NrPlTJsIninh"
      }
    },
    {
      "cell_type": "markdown",
      "source": [
        "### Monomer and cluster methods"
      ],
      "metadata": {
        "id": "6XBWIB5C2BOt"
      }
    },
    {
      "cell_type": "code",
      "source": [
        "#@title **Reference complex: rtsc (Exp1)**\n",
        "#@markdown Stability constant of the **rtsc complex** ($\\log \\beta = 18.46$) calculated using xTB, revTPSS, B3LYP, and M06.\n",
        "functional = ['xTB','revTPSS', 'B3LYP', 'M06']\n",
        "var = ['Exp1_L_', 'Cu_H2O_', 'Exp1_CuL_', 'H2O_', 'H2O_6_']\n",
        "method = ['monomer','cluster']\n",
        "\n",
        "for m in method:\n",
        "  print('Method: ',m)\n",
        "  for f in functional:\n",
        "    args = [globals()[v + f] for v in var] + [6, T, m]\n",
        "    a, b = ConstanteK(*args)\n",
        "    error = (a - 18.46)/18.46 * 100\n",
        "    print(f'{f:<10}: log β = {a:4.4}', ' % error =', round(error))\n",
        "  print('----------------------------------------')"
      ],
      "metadata": {
        "id": "wDW0W4h8_0t1",
        "cellView": "form"
      },
      "execution_count": null,
      "outputs": []
    },
    {
      "cell_type": "code",
      "source": [
        "#@title **Reference complex: gtsc (Exp2)**\n",
        "#@markdown Stability constant of the **gtsc complex** ($\\log \\beta = 20.65$) calculated using xTB, revTPSS, B3LYP, and M06.\n",
        "functional = ['xTB','revTPSS', 'B3LYP', 'M06']\n",
        "var = ['Exp2_L_', 'Cu_H2O_', 'Exp2_CuL_', 'H2O_', 'H2O_6_']\n",
        "method = ['monomer','cluster']\n",
        "\n",
        "for m in method:\n",
        "  print('Method: ',m)\n",
        "  for f in functional:\n",
        "    args = [globals()[v + f] for v in var] + [6, T, m]\n",
        "    a, b = ConstanteK(*args)\n",
        "    error = (a - 20.65)/20.65 * 100\n",
        "    print(f'{f:<10}: log β = {a:4.4}', ' % error =', round(error))\n",
        "  print('----------------------------------------')"
      ],
      "metadata": {
        "id": "fOsRV0TQByoq",
        "cellView": "form"
      },
      "execution_count": null,
      "outputs": []
    },
    {
      "cell_type": "code",
      "source": [
        "#@title **Reference complex: ptsm (Exp3)**\n",
        "#@markdown Stability constant of the **ptsm complex** ($\\log \\beta = 21.79$) is calculated using xTB, revTPSS, B3LYP, and M06.\n",
        "functional = ['xTB','revTPSS', 'B3LYP', 'M06']\n",
        "var = ['Exp3_L_', 'Cu_H2O_', 'Exp3_CuL_', 'H2O_', 'H2O_6_']\n",
        "method = ['monomer','cluster']\n",
        "\n",
        "for m in method:\n",
        "  print('Method: ',m)\n",
        "  for f in functional:\n",
        "    args = [globals()[v + f] for v in var] + [6, T, m]\n",
        "    a, b = ConstanteK(*args)\n",
        "    error = (a - 21.79)/21.79 * 100\n",
        "    print(f'{f:<10}: log β = {a:4.4}', ' % error =', round(error))\n",
        "  print('----------------------------------------')"
      ],
      "metadata": {
        "id": "l7T8zoPTDDMq",
        "cellView": "form"
      },
      "execution_count": null,
      "outputs": []
    },
    {
      "cell_type": "markdown",
      "source": [
        "### Hess method"
      ],
      "metadata": {
        "id": "i1sT2tmK2FB7"
      }
    },
    {
      "cell_type": "code",
      "source": [
        "#@title **Reference Complexes**\n",
        "#@markdown Stability constants calculated using xTB, revTPSS, B3LYP, and M06, performing a cross-validation using 4 complexes reported in the literature.\n",
        "#@markdown The error is quantified by the mean absolute error: $$\\text{MAE} = \\frac{1}{N}\\sum_i|\\log \\beta_i^\\text{calc} - \\log \\beta_i^\\text{exp}|$$\n",
        "#@markdown In addition, the mean squared error was also computed: $$\\text{MSE} = \\frac{1}{N}\\sum_i(\\log \\beta_i^\\text{calc} - \\log \\beta_i^\\text{exp})^2$$\n",
        "\n",
        "functional = ['xTB','revTPSS', 'B3LYP', 'M06']\n",
        "complejos_exp = ['Exp1', 'Exp2', 'Exp3']\n",
        "complejos_label = ['rtsc', 'gtsc','ptsm']\n",
        "logK_exp = np.array([18.46, 20.65, 21.79])\n",
        "\n",
        "# Loop for leave-one-out cross-validation\n",
        "for f in functional:\n",
        "  # Initialize lists to store errors\n",
        "  mae_list = []\n",
        "  mse_list = []\n",
        "  print('Functional: ',f)\n",
        "  for i in range(len(logK_exp)):\n",
        "      logK_ref = logK_exp[i]\n",
        "      logK_pred = []\n",
        "\n",
        "      for j in range(len(logK_exp)):\n",
        "        if j != i:\n",
        "          var = [complejos_exp[j]+'_L_', 'Cu_H2O_', complejos_exp[j]+'_CuL_', 'H2O_', 'H2O_6_']\n",
        "          var_ref = [complejos_exp[i]+'_L_', complejos_exp[i]+'_CuL_']\n",
        "          args = [globals()[v + f] for v in var] + [6, T, 'Hess']+ [globals()[i + f] for i in var_ref] + [logK_exp[i]]\n",
        "          a , _ = ConstanteK(*args)\n",
        "          logK_pred.append(a)\n",
        "        else:\n",
        "          logK_pred.append(np.nan)\n",
        "\n",
        "      # Filter NaN values and compare with real data\n",
        "      logK_pred = np.array(logK_pred)\n",
        "      mask = ~np.isnan(logK_pred)  # Mask to avoid the reference value\n",
        "      real_indices = np.where(mask)[0]\n",
        "      logK_real = logK_exp[mask]\n",
        "      logK_pred_filtered = logK_pred[mask]\n",
        "\n",
        "      # Calculate errors\n",
        "      mae = np.mean(np.abs(logK_pred_filtered - logK_real))\n",
        "      mse = np.mean((logK_pred_filtered - logK_real) ** 2)\n",
        "\n",
        "\n",
        "      # Store errors\n",
        "      mae_list.append(mae)\n",
        "      mse_list.append(mse)\n",
        "\n",
        "      # Print values\n",
        "      print(f\"Using {complejos_label[i]} log β = {logK_ref:.2f} as a reference:\")\n",
        "      for idx, (pred, real) in zip(real_indices, zip(logK_pred_filtered, logK_real)):\n",
        "          print(f\"  Predicted {complejos_label[idx]} log β = {pred:.2f}, Real {complejos_label[idx]} log β = {real:.2f}, % error = {abs(pred - real)/real*100:.2f}\")\n",
        "      print(\"-\" * 70)\n",
        "\n",
        "  # Average errors over all iterations\n",
        "  final_mae = np.mean(mae_list)\n",
        "  final_mse = np.mean(mse_list)\n",
        "\n",
        "  print(f\"Final MAE: {final_mae:.2f}, with {f}\")\n",
        "  print(f\"Final MSE: {final_mse:.2f}, with {f}\")\n",
        "  print(\"\\n\")"
      ],
      "metadata": {
        "id": "jRXf1ey3CGXt",
        "cellView": "form"
      },
      "execution_count": null,
      "outputs": []
    },
    {
      "cell_type": "markdown",
      "source": [
        "## Synthesized complexes analysis"
      ],
      "metadata": {
        "id": "bQHvQVO57JPn"
      }
    },
    {
      "cell_type": "code",
      "source": [
        "#@title **Synthesized Complexes**\n",
        "#@markdown Stability constants of the **synthesized complexes** calculated using the monomer method (relative stability info) and the Hess method (greater accuracy).\n",
        "\n",
        "functional = ['B3LYP']\n",
        "complejos = ['DU1', 'DU2', 'DU3', 'DG1', 'DG2', 'DGB']\n",
        "complejos_label = ['rtsc', 'gtsc','ptsm']\n",
        "complejos_exp = ['Exp1', 'Exp2', 'Exp3']\n",
        "logK_exp = np.array([18.46, 20.65, 21.79])\n",
        "metodo = ['monomer','Hess']\n",
        "\n",
        "print('Method: Monomer')\n",
        "for c in complejos:\n",
        "  print('Synthesized complex:', c)\n",
        "  var = [c+'_L_', 'Cu_H2O_', c+'_CuL_', 'H2O_', 'H2O_6_']\n",
        "  for f in functional:\n",
        "    args = [globals()[v + f] for v in var] + [6, T, 'monomer']\n",
        "    a,_ = ConstanteK(*args)\n",
        "    print(f'  {f:<6}: log β = {a:.2f}')\n",
        "  print('-'*50)\n",
        "\n",
        "print('\\n\\n')\n",
        "print('Method: Hess')\n",
        "print('\\n')\n",
        "for c in range(len(complejos)):\n",
        "  print(complejos[c])\n",
        "  var = [complejos[c]+'_L_', 'Cu_H2O_', complejos[c]+'_CuL_', 'H2O_', 'H2O_6_']\n",
        "  for f in functional:\n",
        "    print('Calculation by ', f)\n",
        "    logK_calc = []\n",
        "    for j in range(len(logK_exp)):\n",
        "      var_ref = [complejos_exp[j]+'_L_', complejos_exp[j]+'_CuL_']\n",
        "      args = [globals()[v + f] for v in var] + [6, T, 'Hess']+ [globals()[i + f] for i in var_ref] + [logK_exp[j]]\n",
        "      a , _ = ConstanteK(*args)\n",
        "      logK_calc.append(a)\n",
        "      print(f' Ref: {complejos_label[j]}: log β = {a:.2f}')\n",
        "    print('prom = ', round(np.mean(logK_calc),2), 'σ = ', round(np.std(logK_calc, ddof = 1),20))\n",
        "    print('-'*50)"
      ],
      "metadata": {
        "id": "WGs_dWi594tQ",
        "cellView": "form"
      },
      "execution_count": null,
      "outputs": []
    },
    {
      "cell_type": "markdown",
      "source": [
        "# Proposed complexes analysis"
      ],
      "metadata": {
        "id": "2AmmDFwJdhc9"
      }
    },
    {
      "cell_type": "code",
      "source": [
        "functional = ['B3LYP']\n",
        "complejos = ['C1', 'C2', 'C3', 'C4','C5','C6','C7','C8']\n",
        "complejos_label = ['rtsc', 'gtsc','ptsm']\n",
        "complejos_exp = ['Exp1', 'Exp2', 'Exp3']\n",
        "logK_exp = np.array([18.46, 20.65, 21.79])\n",
        "metodo = ['monomer','Hess']\n",
        "\n",
        "print('Method: Monomer')\n",
        "for c in complejos:\n",
        "  print('Synthesized complex:', c)\n",
        "  var = [c+'_L_', 'Cu_H2O_', c+'_CuL_', 'H2O_', 'H2O_6_']\n",
        "  for f in functional:\n",
        "    args = [globals()[v + f] for v in var] + [6, T, 'monomer']\n",
        "    a,_ = ConstanteK(*args)\n",
        "    print(f'  {f:<6}: log β = {a:.2f}')\n",
        "  print('-'*50)\n",
        "\n",
        "print('\\n\\n')\n",
        "print('Method: Hess')\n",
        "print('\\n')\n",
        "for c in range(len(complejos)):\n",
        "  print(complejos[c])\n",
        "  var = [complejos[c]+'_L_', 'Cu_H2O_', complejos[c]+'_CuL_', 'H2O_', 'H2O_6_']\n",
        "  for f in functional:\n",
        "    print('Calculation by ', f)\n",
        "    logK_calc = []\n",
        "    for j in range(len(logK_exp)):\n",
        "      var_ref = [complejos_exp[j]+'_L_', complejos_exp[j]+'_CuL_']\n",
        "      args = [globals()[v + f] for v in var] + [6, T, 'Hess']+ [globals()[i + f] for i in var_ref] + [logK_exp[j]]\n",
        "      a , _ = ConstanteK(*args)\n",
        "      logK_calc.append(a)\n",
        "      print(f' Ref: {complejos_label[j]}: log β = {a:.2f}')\n",
        "    print('prom = ', round(np.mean(logK_calc),2), 'σ = ', round(np.std(logK_calc, ddof = 1),20))\n",
        "    print('-'*50)"
      ],
      "metadata": {
        "id": "wNXpXM2PuOHl"
      },
      "execution_count": null,
      "outputs": []
    },
    {
      "cell_type": "code",
      "source": [
        "functional = ['B3LYP']\n",
        "complejos = ['C2', 'C3', 'C4','C7']\n",
        "complejos_label = ['rtsc', 'gtsc','ptsm']\n",
        "complejos_exp = ['Exp1', 'Exp2', 'Exp3']\n",
        "logK_exp = np.array([18.46, 20.65, 21.79])\n",
        "metodo = ['monomer','Hess']\n",
        "\n",
        "print('Method: Monomer')\n",
        "for c in complejos:\n",
        "  print('Synthesized complex:', c)\n",
        "  var = [c+'_L_OH_', 'Cu_H2O_', c+'_CuL_OH_', 'H2O_', 'H2O_6_']\n",
        "  for f in functional:\n",
        "    args = [globals()[v + f] for v in var] + [6, T, 'monomer']\n",
        "    a,_ = ConstanteK(*args)\n",
        "    print(f'  {f:<6}: log β = {a:.2f}')\n",
        "  print('-'*50)\n",
        "\n",
        "print('\\n\\n')\n",
        "print('Method: Hess')\n",
        "print('\\n')\n",
        "for c in range(len(complejos)):\n",
        "  print(complejos[c]+'_OH')\n",
        "  var = [complejos[c]+'_L_OH_', 'Cu_H2O_', complejos[c]+'_CuL_OH_', 'H2O_', 'H2O_6_']\n",
        "  for f in functional:\n",
        "    print('Calculation by ', f)\n",
        "    logK_calc = []\n",
        "    for j in range(len(logK_exp)):\n",
        "      var_ref = [complejos_exp[j]+'_L_', complejos_exp[j]+'_CuL_']\n",
        "      args = [globals()[v + f] for v in var] + [6, T, 'Hess']+ [globals()[i + f] for i in var_ref] + [logK_exp[j]]\n",
        "      a , _ = ConstanteK(*args)\n",
        "      logK_calc.append(a)\n",
        "      print(f' Ref: {complejos_label[j]}: log β = {a:.2f}')\n",
        "    print('prom = ', round(np.mean(logK_calc),2), 'σ = ', round(np.std(logK_calc, ddof = 1),20))\n",
        "    print('-'*50)"
      ],
      "metadata": {
        "id": "-fay1lFOdrt0"
      },
      "execution_count": null,
      "outputs": []
    },
    {
      "cell_type": "markdown",
      "source": [
        "# References\n",
        "1. Vukovic, S.; Hay, B.; Bryantsev, V. *Inorganic Chemistry* **2015**, 54, 3995–4001, DOI:10.1021/acs.inorgchem.5b00264.\n",
        "2. Bryantsev, V.; Diallo, M.; Goddard III, W. *The Journal of Physical Chemistry B* **2008**, 112, 9709–9719, DOI: 10.1021/jp802665d.\n",
        "3. Flores, R.; Reyes-García, L.; Rodríguez-Laguna, N.; Gómez-Balderas, R. *Theoretical Chemistry Accounts* **2018**, 137, 125, DOI: 10.1007/s00214-018-2315-z.\n",
        "4. Ngarivhume, T.; Díaz, A.; Cao, R.; Ortiz, M.; Sánchez, I. *Synthesis and Reactivity in Inorganic, Metal-Organic, and Nano-Metal Chemistry* **2005**, 35, 795–800, DOI: 10.1080/15533170500360180.\n",
        "5. Signorella, S.; Palopoli, C.; Frutos, A.; Escandar, G.; Tanase, T.; Sala, L. *Canadian Journal of Chemistry* **1999**, 77, 1492–1497, DOI: 10.1139/v99-165.\n",
        "6. Winkelmann, D.; Bermke, Y.; Petering, D. *Bioinorganic Chemistry* **1974**, 3, 261–277, DOI: 10.1016/S0006-3061(00)80074-5."
      ],
      "metadata": {
        "id": "ZjOCvqNxiwVZ"
      }
    }
  ]
}