{
  "cells": [
    {
      "cell_type": "markdown",
      "source": [
        "This notebook optimizes the geometries and computes free energy via xTB method."
      ],
      "metadata": {
        "id": "zWefvhWXwjzN"
      }
    },
    {
      "cell_type": "markdown",
      "metadata": {
        "id": "wXA3ZK3aK2ri"
      },
      "source": [
        "## Installation"
      ]
    },
    {
      "cell_type": "code",
      "execution_count": null,
      "metadata": {
        "id": "sHnzhIpTH0OD"
      },
      "outputs": [],
      "source": [
        "try:\n",
        "    import google.colab\n",
        "\n",
        "    !pip install condacolab\n",
        "    import condacolab\n",
        "\n",
        "    condacolab.install()\n",
        "except ModuleNotFoundError:\n",
        "    pass"
      ]
    },
    {
      "cell_type": "code",
      "execution_count": null,
      "metadata": {
        "id": "J-8yJg1DH16q"
      },
      "outputs": [],
      "source": [
        "try:\n",
        "    import condacolab\n",
        "    from google.colab import files\n",
        "    from IPython.display import clear_output\n",
        "\n",
        "    condacolab.check()\n",
        "    !conda install -q -y -c conda-forge xtb rdkit py3Dmol openbabel\n",
        "except ModuleNotFoundError:\n",
        "    on_colab = False\n",
        "else:\n",
        "    # check if installation was succesful\n",
        "    try:\n",
        "        import rdkit\n",
        "\n",
        "        on_colab = True\n",
        "        clear_output()  # clear the excessive installation outputs\n",
        "        print(\"Dependencies successfully installed!\")\n",
        "    except ModuleNotFoundError:\n",
        "        print(\"Error while installing dependencies!\")"
      ]
    },
    {
      "cell_type": "markdown",
      "metadata": {
        "id": "qP57-PrMK5v6"
      },
      "source": [
        "## Import libraries"
      ]
    },
    {
      "cell_type": "code",
      "execution_count": null,
      "metadata": {
        "id": "ncr38Z0yIyIk"
      },
      "outputs": [],
      "source": [
        "import sys\n",
        "sys.path.append('/usr/local/lib/python3.7/site-packages/')\n",
        "\n",
        "from rdkit import Chem\n",
        "from rdkit.Chem import AllChem\n",
        "from collections import defaultdict\n",
        "#from rdkit.Chem import rdFMCS\n",
        "#from rdkit.Chem import Draw\n",
        "from rdkit.Chem.Draw import IPythonConsole\n",
        "#from rdkit.Chem import rdDistGeom\n",
        "IPythonConsole.ipython_3d = True\n",
        "\n",
        "import py3Dmol\n",
        "import matplotlib.pyplot as plt\n",
        "#import subprocess\n",
        "\n",
        "from google.colab import files"
      ]
    },
    {
      "cell_type": "markdown",
      "metadata": {
        "id": "teQThQB1K7m9"
      },
      "source": [
        "## Load functions"
      ]
    },
    {
      "cell_type": "code",
      "execution_count": null,
      "metadata": {
        "id": "Ge_JSxRBJApx"
      },
      "outputs": [],
      "source": [
        "def write_xyz(mol, file_name='temp.xyz'):\n",
        "  number_of_atoms = mol.GetNumAtoms()\n",
        "  symbols = [a.GetSymbol() for a in mol.GetAtoms()]\n",
        "  with open(file_name, \"w\") as file:\n",
        "    file.write(str(number_of_atoms)+\"\\n\")\n",
        "    file.write(\"title\\n\")\n",
        "    conf = mol.GetConformers()[0]\n",
        "    for atom,symbol in enumerate(symbols):\n",
        "      p = conf.GetAtomPosition(atom)\n",
        "      line = \" \".join((symbol,str(p.x),str(p.y),str(p.z),\"\\n\"))\n",
        "      file.write(line)\n",
        "\n",
        "def show_mol(file_name, animate=False):\n",
        "  xyz=open(file_name, 'r').read()\n",
        "  p = py3Dmol.view(width=400,height=400)\n",
        "  if animate:\n",
        "    p.addModelsAsFrames(xyz,'xyz')\n",
        "    p.animate({'loop': \"forward\",'reps': 5})\n",
        "    #p.animate({'loop': 'backAndForth'})\n",
        "  else:\n",
        "    p.addModel(xyz,'xyz')\n",
        "  p.setStyle({'stick':{}})\n",
        "  p.setBackgroundColor('0xeeeeee')\n",
        "  p.zoomTo()\n",
        "  p.show()\n",
        "\n",
        "\n",
        "# See https://github.com/rdkit/rdkit/discussions/5280\n",
        "def is_transition_metal(at):\n",
        "    n = at.GetAtomicNum()\n",
        "    return (n>=22 and n<=29) or (n>=40 and n<=47) or (n>=72 and n<=79)\n",
        "def set_dative_bonds(mol, fromAtoms=(7,8)):\n",
        "    \"\"\" convert some bonds to dative\n",
        "\n",
        "    Replaces some single bonds between metals and atoms with atomic numbers in fomAtoms\n",
        "    with dative bonds. The replacement is only done if the atom has \"too many\" bonds.\n",
        "\n",
        "    Returns the modified molecule.\n",
        "\n",
        "    \"\"\"\n",
        "    pt = Chem.GetPeriodicTable()\n",
        "    rwmol = Chem.RWMol(mol)\n",
        "    rwmol.UpdatePropertyCache(strict=False)\n",
        "    metals = [at for at in rwmol.GetAtoms() if is_transition_metal(at)]\n",
        "    for metal in metals:\n",
        "        for nbr in metal.GetNeighbors():\n",
        "            if nbr.GetAtomicNum() in fromAtoms and \\\n",
        "               nbr.GetExplicitValence()>pt.GetDefaultValence(nbr.GetAtomicNum()) and \\\n",
        "               rwmol.GetBondBetweenAtoms(nbr.GetIdx(),metal.GetIdx()).GetBondType() == Chem.BondType.SINGLE:\n",
        "                rwmol.RemoveBond(nbr.GetIdx(),metal.GetIdx())\n",
        "                rwmol.AddBond(nbr.GetIdx(),metal.GetIdx(),Chem.BondType.DATIVE)\n",
        "    return rwmol\n",
        "\n",
        "def add_charges_to_mol2(mol2_file, charges_file, output_mol2_file):\n",
        "    \"\"\"\n",
        "    Reads a MOL2 file, adds charges from a separate file to the @<TRIPOS>ATOM section,\n",
        "    and ensures the alignment of columns is preserved with fixed column width.\n",
        "    \"\"\"\n",
        "\n",
        "    # Read the charges from the charges file\n",
        "    with open(charges_file, 'r') as f:\n",
        "        charges = [line.strip() for line in f.readlines()]\n",
        "\n",
        "    # Read the original MOL2 file\n",
        "    with open(mol2_file, 'r') as f:\n",
        "        mol2_lines = f.readlines()\n",
        "\n",
        "    atom_section = False  # Track if we are in the @<TRIPOS>ATOM section\n",
        "    charge_idx = 0  # Track the current charge\n",
        "\n",
        "    # Write to the output file\n",
        "    with open(output_mol2_file, 'w') as f:\n",
        "        for line in mol2_lines:\n",
        "            if line.startswith(\"@<TRIPOS>ATOM\"):\n",
        "                atom_section = True\n",
        "                f.write(line)  # Write the @<TRIPOS>ATOM header\n",
        "                continue\n",
        "            elif line.startswith(\"@<TRIPOS>BOND\"):\n",
        "                atom_section = False\n",
        "                f.write(line)  # Write the @<TRIPOS>BOND header\n",
        "                continue\n",
        "\n",
        "            # If we are in the atom section, format the lines with proper alignment\n",
        "            if atom_section and len(line.split()) >= 9:\n",
        "                parts = line.split()\n",
        "                if charge_idx < len(charges):\n",
        "                    charge = float(charges[charge_idx])\n",
        "                    charge_idx += 1\n",
        "                    # Enforce fixed width for each column: ID, atom name, x, y, z, atom type, residue, etc.\n",
        "                    f.write(f\"{int(parts[0]):>7} {parts[1]:<7} {float(parts[2]):>10.4f} \"\n",
        "                            f\"{float(parts[3]):>10.4f} {float(parts[4]):>10.4f} {parts[5]:<7} \"\n",
        "                            f\"{parts[6]:>2} {parts[7]:<6} {charge:>10.4f}\\n\")\n",
        "            else:\n",
        "                f.write(line)  # Write non-atom lines as they are\n",
        "\n"
      ]
    },
    {
      "cell_type": "markdown",
      "metadata": {
        "id": "6OqrNhLnLAWi"
      },
      "source": [
        "## Run Geometry Optimization and Compute Frequencies"
      ]
    },
    {
      "cell_type": "code",
      "source": [
        "# --opt: optimize geometry\n",
        "# --ohess: compute frequencies\n",
        "# uhf: to set unpaired electrons (multiplicity)\n",
        "# use 0 for singlet\n",
        "# use 1 for doblet\n",
        "# use 2 for triplet\n",
        "!xtb file.xyz --chrg -2 --uhf 0 --opt --gbsa water"
      ],
      "metadata": {
        "id": "t5rjaTH9u5WP"
      },
      "execution_count": null,
      "outputs": []
    },
    {
      "cell_type": "code",
      "source": [
        "show_mol('xtbopt.xyz')"
      ],
      "metadata": {
        "id": "kaQb7XFJvD42"
      },
      "execution_count": null,
      "outputs": []
    },
    {
      "cell_type": "code",
      "source": [
        "files.download(\"xtbopt.xyz\")"
      ],
      "metadata": {
        "id": "2FDhDD8fvc6a"
      },
      "execution_count": null,
      "outputs": []
    },
    {
      "cell_type": "code",
      "source": [
        "!xtb xtbopt.xyz --chrg 0 --uhf 1 --ohess --gbsa water"
      ],
      "metadata": {
        "id": "yY_ERDyrwZl6"
      },
      "execution_count": null,
      "outputs": []
    }
  ],
  "metadata": {
    "colab": {
      "provenance": []
    },
    "kernelspec": {
      "display_name": "Python 3",
      "name": "python3"
    },
    "language_info": {
      "name": "python"
    }
  },
  "nbformat": 4,
  "nbformat_minor": 0
}